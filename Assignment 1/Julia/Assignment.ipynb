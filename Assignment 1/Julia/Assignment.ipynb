{
 "cells": [
  {
   "cell_type": "markdown",
   "id": "a5ed95a0-6f02-49ae-b56a-afd38c589910",
   "metadata": {},
   "source": [
    "# Assignment 1\n",
    "\n",
    "You have been engaged by the Salt Lake County Regional Economic Development office to investigate the effects of building a sports stadium on nearby property values. One component of your analysis will be to evaluate the effects of building the Rio Tinto Stadium (now America First Credit Union Field) in Sandy, UT (home of Real Salt Lake). Did it have an effect on property values?\n",
    "\n",
    "To prepare your analysis, you have been provided the MLS sales data for Sandy, UT as well as several other nearby suburbs in Salt Lake County. You may choose which of these to include in your analysis.\n",
    "\n",
    "### Environment\n",
    "\n",
    "Need to include the libraries we will be using in this notebook so Julia knows what functions we will be referencing"
   ]
  },
  {
   "cell_type": "code",
   "execution_count": null,
   "id": "b25ac101-58d9-4d04-9795-6d1669f5face",
   "metadata": {},
   "outputs": [],
   "source": [
    "using CSV\n",
    "using DataFrames\n",
    "using Geodesy\n",
    "using Plots\n",
    "using StatsPlots"
   ]
  },
  {
   "cell_type": "markdown",
   "id": "c08585e2-edb4-4d25-9094-f3cb52e4e933",
   "metadata": {},
   "source": [
    "### Data\n",
    "\n",
    "Reading in and cleaning up the MLS data for Sandy. Converting text columns into dummy variables."
   ]
  },
  {
   "cell_type": "code",
   "execution_count": null,
   "id": "691e0a63-4974-48fd-8526-08ac06f93f2d",
   "metadata": {},
   "outputs": [],
   "source": [
    "# Read in comma-separated data into DataFrame\n",
    "mls_data = CSV.read(\"../../Data/SandyData.csv\", DataFrame);\n",
    "draper = CSV.read(\"../../Data/DraperData.csv\", DataFrame);\n",
    "mls_data = vcat(mls_data, draper);\n",
    "\n",
    "# Drop extra columns and rows w/ missing values\n",
    "mls_data = mls_data[(mls_data.Latitude .> 0.0) .& (mls_data.Longitude .< 0.0), \n",
    "    [:SoldPrice, :SOLDYRMO, :Acres, :TotSqf, :TotBed, :TotBth, :GaragCap, :Latitude, :Longitude, :AirType, :Heat]];\n",
    "mls_data = dropmissing(mls_data);\n",
    "\n",
    "# Create Dummy Variables for AC and Heat\n",
    "mls_data[!, \"AC\"] = map(occursin, repeat(\"Central Air\", nrow(mls_data)), mls_data.AirType) * 1;\n",
    "mls_data[!, \"CentralHeating\"] = map(occursin, repeat(\"Central\", nrow(mls_data)), mls_data.Heat) * 1;\n",
    "# Drop old heat/air columns\n",
    "mls_data = select(mls_data, Not(:AirType));\n",
    "mls_data = select(mls_data, Not(:Heat));\n",
    "\n",
    "first(mls_data, 5)"
   ]
  },
  {
   "cell_type": "markdown",
   "id": "9f03323f-a2fa-4461-9cb6-eabd36b93706",
   "metadata": {},
   "source": [
    "Getting the dummy variables for examining the impact of the stadium"
   ]
  },
  {
   "cell_type": "code",
   "execution_count": null,
   "id": "41c3df29-f959-402f-9462-5d8f78a1eae1",
   "metadata": {},
   "outputs": [],
   "source": [
    "# Create transformation for coordinates->UTM (1 point = 1 meter)\n",
    "utm_utah = UTMfromLLA(12, true, wgs84)\n",
    "\n",
    "# America First Field\n",
    "stadium_loc = utm_utah(LLA(40.5829, -111.8934, 0.0))\n",
    "\n",
    "function distance_from_stadium(lat, lon)\n",
    "    # Convert to UTM\n",
    "    house_loc = utm_utah(LLA(lat, lon, 0.0));\n",
    "    # Calculate distance\n",
    "    diff = stadium_loc.x - house_loc.x, stadium_loc.y - house_loc.y\n",
    "    dist = √(sum(diff).^2);\n",
    "    # Convert to miles from meters\n",
    "    return dist / 1609.3\n",
    "end\n",
    "\n",
    "mls_data[!, \"distFromStadium\"] = map(distance_from_stadium, mls_data.Latitude, mls_data.Longitude);\n",
    "mls_data[!, \"nearStadium\"] = 1 * (mls_data.distFromStadium .<= 1);\n",
    "mls_data[!, \"awayFromStadium\"] = 1 * (mls_data.distFromStadium .>= 4);\n",
    "mls_data = mls_data[mls_data.nearStadium + mls_data.awayFromStadium .> 0, :]\n",
    "\n",
    "describe(mls_data.distFromStadium)"
   ]
  },
  {
   "cell_type": "markdown",
   "id": "bd77968d-83b8-462d-88d9-3735ef3bfd1d",
   "metadata": {},
   "source": [
    "### Questions\n",
    "\n",
    "1. Describe how you plan to address your research question. What is the dependent variable? What is/are the key independent variable(s)? Do you want to recover a causal effect?\n",
    "\n",
    "To explore the impact the America First field had on the housing market in Sandy, we will try to examine how home prices changed based on their proximity to the site and whether the price is from before or after the field was completed. Using the home sale data, the dependent variable will be the sold price of the homes and the independent variables will be dummy variables for whether the house was near the stadium or not and whether the house was sold before or after the stadium was constructed as well as most of the main variables that would affect the house price (total square ft, acreage, no. bedrooms, no. bathrooms, etc.)\n",
    "\n",
    "2. Assuming you will use regression analysis to explore this issue, describe the model you propose.\n",
    "\n",
    "We propose a linear regression model that includes the aforementioned independent variables as well as the interaction between proximity and the house being sold after the stadium was completed.\n",
    "\n",
    "*SoldPrice* = &beta;<sub>0</sub> + &beta;<sub>1</sub>*AfterStadiumBuilt* + &beta;<sub>2</sub>*NearStadium* + &beta;<sub>3</sub>*SquareFootage* + &beta;<sub>3</sub>*TotBth* + ... &beta;<sub>*N*</sub>*X*<sub>*N*</sub> ... + &beta;<sub>1</sub>&beta;<sub>2</sub>*NearStadium*\\**AfterStadiumBuilt* + &epsilon;\n",
    "\n",
    "3. What variables do you propose to use? Why? What effect do you expect they will have on your dependent variable? What informs your expectation?\n",
    "\n",
    "From the original data, we will be using those which we think have the biggest explanatory power on home price, such as acreage, square footage, number of bedrooms, having AC, having central heating, and number of bathrooms which we believe all have a positive relationship with the home price. The variables regarding the treatment: selling before or after the stadium and being near the stadium we believe will also have a positive relation with the home price based on the assumption that a new sporting stadium will attract more business with all the people coming in from outside the city. \n",
    "\n",
    "4. Do your data contain all the independent variables you intend to use? If not, what other variables do you need? Where will you get them?\n",
    "\n",
    "The original data contains most of the data needed, but other independent variables to use include the unemployment rate and the interest rate which can be gotten from the FRED database.\n",
    "\n",
    "5. Provide a description of your data\n",
    "    1. What do these data contain?\n",
    "    \n",
    "    The data contains the details surrounding home sales in the city of Sandy, Utah from 2000 to 2017. This includes all of the home's properties that would be of interest to a buyer listed by the real estate agent as well as the price and date (month) of the sale.\n",
    "    \n",
    "    2. What do the data not contain that may be of interest?\n",
    "    \n",
    "    The data is missing some exogenous variables that would affect the housing market such as inflows and outflows of people in the state, the unemployment rate, and the interest rate. These would have an impact on people's ability to purchase a house which would then affect the prices seen, especially over time since we want to examine prices before and after the stadium without mixing it up with the other exogenous factors.\n",
    "    \n",
    "    3. Time period covered – is the time period sufficient for your analysis\n",
    "    \n",
    "    The data goes back to 2000, 8 years before the stadium's completion and reaches until 2017, 9 years after its completion which should be enough for our purposes"
   ]
  },
  {
   "cell_type": "markdown",
   "id": "53e2af35-aecc-479c-8bde-3a18648983ca",
   "metadata": {},
   "source": [
    "6. Provide a table of univariate statistics for key variables such as price (explain if it’s the sold price or the net price as discussed in class), square footage, acreage, etc.\n",
    "\n",
    "* SoldPrice: Contracted sold price of the residence in U.S. dollars\n",
    "* Acres: Total acreage of the property sold\n",
    "* TotBed: Total number of bedrooms in the residence\n",
    "* TotBth: Total number of bathrooms in the residence\n",
    "* Central Air: Any form of central air conditioning in the residence\n",
    "* CentralHeating: Any form of central heating in the residence, including radiant and forced air\n",
    "* TotSqf: Total square footage of the residence"
   ]
  },
  {
   "cell_type": "code",
   "execution_count": null,
   "id": "9adc5cd9-807e-4044-9615-f038d5e29504",
   "metadata": {},
   "outputs": [],
   "source": [
    "describe(mls_data)"
   ]
  },
  {
   "cell_type": "markdown",
   "id": "96237f1c-c355-4a27-8995-f6e162db4be6",
   "metadata": {},
   "source": [
    "7. Do any observations indicate they should be deleted? Why?\n",
    "\n",
    "Data points that have are empty for any of the variables being used will be tossed out bringing down the number of observations. There is a home on a property much larger than the rest of the data that would skew the impact of acreage on the price as well. "
   ]
  },
  {
   "cell_type": "code",
   "execution_count": null,
   "id": "6bbcd37d-5376-4c88-a461-8de0bc030aa3",
   "metadata": {},
   "outputs": [],
   "source": [
    "scatter(mls_data.Acres, mls_data.SoldPrice)"
   ]
  }
 ],
 "metadata": {
  "kernelspec": {
   "display_name": "Julia 1.8.5",
   "language": "julia",
   "name": "julia-1.8"
  },
  "language_info": {
   "file_extension": ".jl",
   "mimetype": "application/julia",
   "name": "julia",
   "version": "1.8.5"
  }
 },
 "nbformat": 4,
 "nbformat_minor": 5
}
