{
 "cells": [
  {
   "cell_type": "markdown",
   "id": "50c0fe2f-6057-4b05-8412-50a8a9c701ba",
   "metadata": {
    "tags": []
   },
   "source": [
    "# Assignment 2\n",
    "\n",
    "You have been engaged by the Salt Lake County Regional Economic Development office to investigate the effects of building a sports stadium on nearby property values. One component of your analysis will be to evaluate the effects of building the Rio Tinto Stadium (now America First Credit Union Field) in Sandy, UT (home of Real Salt Lake). Did it have an effect on property values?\n",
    "\n",
    "To prepare your analysis, you have been provided the MLS sales data for Sandy, UT as well as several other nearby suburbs in Salt Lake County. You may choose which of these to include in your analysis.\n",
    "\n",
    "### Environment\n",
    "\n",
    "Need to include the libraries we will be using in this notebook so Julia knows what functions we will be referencing"
   ]
  },
  {
   "cell_type": "code",
   "execution_count": null,
   "id": "7ded6cb0-0003-429b-a93e-4e2d7e4b389e",
   "metadata": {},
   "outputs": [],
   "source": [
    "using CSV\n",
    "using DataFrames\n",
    "using Plots\n",
    "using Geodesy\n",
    "using GraphPlot\n",
    "using Graphs"
   ]
  },
  {
   "cell_type": "markdown",
   "id": "c1113a3f-b505-4792-911a-08824c67621c",
   "metadata": {},
   "source": [
    "### Data\n",
    "Reading in and cleaning up the MLS data for Sandy. Converting text columns into dummy variables.\n",
    "\n",
    "#### Dependent Variable:\n",
    "*Sold Price*\n",
    "\n",
    "#### Independent Variables:\n",
    "* Acres\n",
    "* Square Footage\n",
    "* Num Beds\n",
    "* Num Baths\n",
    "* Garage Size by Cars\n",
    "* AC\n",
    "* Central Heating\n",
    "* Interest Rate (by sold month)\n",
    "* Unemployment Rate (by sold month)\n",
    "* NearStadium [w/in 1 mi of stadium or further than 4 mi]\n",
    "* After Stadium Built [sold before or after construction completion in 2008]"
   ]
  },
  {
   "cell_type": "code",
   "execution_count": null,
   "id": "f759162b-9cfb-4ac4-8fbe-c0a2125aaba4",
   "metadata": {
    "tags": []
   },
   "outputs": [],
   "source": [
    "# Read in comma-separated data into DataFrame\n",
    "mls_data = CSV.read(\"../../Data/SandyData.csv\", DataFrame);\n",
    "\n",
    "# Drop extra columns and rows w/ missing values\n",
    "mls_data = mls_data[(mls_data.Latitude .> 0.0) .& (mls_data.Longitude .< 0.0), \n",
    "    [:SoldPrice, :SOLDYRMO, :Acres, :TotSqf, :TotBed, :TotBth, :GaragCap, :Latitude, :Longitude, :AirType, :Heat]];\n",
    "mls_data = dropmissing(mls_data);\n",
    "\n",
    "# Create Dummy Variables for AC and Heat\n",
    "mls_data[!, \"AC\"] = map(occursin, repeat(\"Central Air\", nrow(mls_data)), mls_data.AirType) * 1;\n",
    "mls_data[!, \"CentralHeating\"] = map(occursin, repeat(\"Central\", nrow(mls_data)), mls_data.Heat) * 1;\n",
    "# Drop old heat/air columns\n",
    "mls_data = select(mls_data, Not(:AirType));\n",
    "mls_data = select(mls_data, Not(:Heat));\n",
    "\n",
    "describe(mls_data)"
   ]
  },
  {
   "cell_type": "markdown",
   "id": "d9af6fe7-106e-4571-81fb-322a645f0a0c",
   "metadata": {},
   "source": [
    "#### Stadium Properties\n",
    "\n",
    "Calculating in miles the distance from the America First field and adding to our dataframe as a new column. Also creating a dummy variable from the sold time relative to the construction date in 2008"
   ]
  },
  {
   "cell_type": "code",
   "execution_count": null,
   "id": "0db2830a-4509-4526-a1c4-4e4d600f7120",
   "metadata": {},
   "outputs": [],
   "source": [
    "# Create transformation for coordinates->UTM (1 point = 1 meter)\n",
    "utm_utah = UTMfromLLA(12, true, wgs84)\n",
    "\n",
    "# America First Field\n",
    "stadium_loc = utm_utah(LLA(40.5829, -111.8934, 0.0))\n",
    "\n",
    "function distance_from_stadium(lat, lon)\n",
    "    # Convert to UTM\n",
    "    house_loc = utm_utah(LLA(lat, lon, 0.0));\n",
    "    # Calculate distance\n",
    "    diff = stadium_loc.x - house_loc.x, stadium_loc.y - house_loc.y\n",
    "    dist = √(sum(diff).^2);\n",
    "    # Convert to miles from meters\n",
    "    return dist / 1609.3\n",
    "end\n",
    "\n",
    "mls_data[!, \"dist_from_stadium\"] = map(distance_from_stadium, mls_data.Latitude, mls_data.Longitude);"
   ]
  },
  {
   "cell_type": "markdown",
   "id": "dcfbd8c5-4f12-4c55-8867-fa185a22455b",
   "metadata": {},
   "source": [
    "#### Housing Market\n",
    "\n",
    "Joining table with unemployment rate and interest rate by month"
   ]
  },
  {
   "cell_type": "code",
   "execution_count": null,
   "id": "d9f6b3c1-fc7d-4a95-91ef-802a80b7cc82",
   "metadata": {},
   "outputs": [],
   "source": []
  },
  {
   "cell_type": "markdown",
   "id": "f93ae70f-dd85-4673-8431-34627ae6a0aa",
   "metadata": {},
   "source": [
    "### Directed Acyclic Graph (DAG)\n",
    "The DAG shows the relationship between the variables represented in our model. The Interest Rate and Unemployment Rate are serving as observation variables for the wide effects of the 2008 Great Recession, or as proxies for its impact as it happens around the same time as the data being evaluated. The effect we want to hone in on, that of the America First stadium being built in Sandy, is observed in terms of a house's distance from the stadium and when the sell happened relative to the construction date. The other nodes represent the usual attributes determining a house's price: size and amenities. Many of these are also interrelated as the larger the plot of land, the bigger the house and the bigger the house, the more room for bedrooms and bathrooms."
   ]
  },
  {
   "cell_type": "code",
   "execution_count": null,
   "id": "08478320-6f14-4e53-a47d-fac020061be1",
   "metadata": {
    "tags": []
   },
   "outputs": [],
   "source": [
    "nodes = [\"InterestRate\", \"MortgageCost\", \"Acres\", \"TotSqf\", \"SoldPrice\", \"TotBed\", \"TotBth\", \"CentralHeating\", \"AC\", \"UnemploymentRate\", \"AfterStadiumBuilt\",\n",
    "            \"DistFromStadium\", \"2008GreatRecession\"];\n",
    "edges = [(\"InterestRate\", \"MortgageCost\"), (\"MortgageCost\", \"SoldPrice\"), (\"Acres\", \"TotSqf\"), (\"TotSqf\", \"SoldPrice\"), (\"Acres\", \"SoldPrice\"),\n",
    "            (\"TotBed\", \"SoldPrice\"), (\"TotBth\", \"SoldPrice\"), (\"TotSqf\", \"TotBed\"), (\"TotSqf\", \"TotBth\"), (\"CentralHeating\", \"SoldPrice\"), (\"AC\", \"SoldPrice\"),\n",
    "            (\"UnemploymentRate\", \"SoldPrice\"), (\"AfterStadiumBuilt\", \"SoldPrice\"), (\"DistFromStadium\", \"SoldPrice\"), (\"DistFromStadium\", \"AfterStadiumBuilt\"),\n",
    "            (\"AfterStadiumBuilt\", \"DistFromStadium\"), (\"InterestRate\", \"UnemploymentRate\"), (\"2008GreatRecession\", \"InterestRate\"), (\"2008GreatRecession\", \"UnemploymentRate\")];\n",
    "# Construct Graph\n",
    "g = SimpleDiGraph();\n",
    "# Vertices are indexed numerically starting at 1\n",
    "# get_index will be used to reference vertex based on original node list\n",
    "add_vertices!(g, length(nodes));\n",
    "get_index(n) = findfirst(x->x==n, nodes)\n",
    "for edge in edges\n",
    "    add_edge!(g, get_index(edge[1]), get_index(edge[2]))\n",
    "end\n",
    "\n",
    "gplot(g, nodelabel=nodes, layout=spring_layout)"
   ]
  },
  {
   "cell_type": "markdown",
   "id": "0ca4127e-972c-4cb2-a413-550e33e58392",
   "metadata": {
    "tags": []
   },
   "source": [
    "### Functional Form\n",
    "\n",
    "*SoldPrice* = &beta;<sub>0</sub> + &beta;<sub>1</sub>*AfterStadiumBuilt* + &beta;<sub>2</sub>*NearStadium* + &beta;<sub>3</sub>*SquareFootage* + &beta;<sub>3</sub>*TotBth* + ... &beta;<sub>*N*</sub>*X*<sub>*N*</sub> ... + &beta;<sub>1</sub>&beta;<sub>2</sub>*NearStadium*\\**AfterStadiumBuilt* + &epsilon;\n",
    "\n",
    "In an attempt to isolate the impact the America First stadium had which acts over time and space, the time of the home sale relative to the stadium's construction date and the distance from the stadium are included, both as singular independent variables and together as an interaction variable. Assuming the houses near the stadium went especially up in price (or down) with a stadium now drawing more traffic to the area, the interaction variable being significant in a linear model would capture this effect. The interest rate and the unemployment rate are included in an attempt to eliminate OVB as the stadium finished construction the same time the housing crash was happening meaning there would be a huge shift in housing prices before and after the stadium regardless of whether there was an impact. The rest of the independent variables are the typical factors used to determine housing prices: size and amenities. "
   ]
  }
 ],
 "metadata": {
  "kernelspec": {
   "display_name": "Julia 1.8.5",
   "language": "julia",
   "name": "julia-1.8"
  },
  "language_info": {
   "file_extension": ".jl",
   "mimetype": "application/julia",
   "name": "julia",
   "version": "1.8.5"
  }
 },
 "nbformat": 4,
 "nbformat_minor": 5
}
